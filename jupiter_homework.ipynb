{
 "cells": [
  {
   "attachments": {},
   "cell_type": "markdown",
   "metadata": {},
   "source": [
    "#Домашнее задание к семинару №1"
   ]
  },
  {
   "attachments": {},
   "cell_type": "markdown",
   "metadata": {},
   "source": [
    "##Задача №1\n",
    "На складе лежат разные фрукты в разном количестве.\n",
    "Нужно написать функцию, которая на вход принимает любое\n",
    "количество названий фруктов и их количество, а возвращает\n",
    "общее количество фруктов на складе"
   ]
  },
  {
   "attachments": {},
   "cell_type": "markdown",
   "metadata": {},
   "source": [
    "Пускай на складе хранятся бананы, арбузы, апельсины, яблоки и дыни:"
   ]
  },
  {
   "cell_type": "code",
   "execution_count": 1,
   "metadata": {},
   "outputs": [],
   "source": [
    "Stock = {\n",
    "    \"banana\": 100,\n",
    "    \"watermelon\": 200,\n",
    "    \"orange\": 60,\n",
    "    \"apple\": 60,\n",
    "    \"melon\": 80\n",
    "}"
   ]
  },
  {
   "attachments": {},
   "cell_type": "markdown",
   "metadata": {},
   "source": [
    "###Решение: Сначала напишем функцию, которая выберет нужное нам количество наименований и массу запрашиваемых фруктов, например бананы, яблоки и апельсины:"
   ]
  },
  {
   "cell_type": "code",
   "execution_count": 3,
   "metadata": {},
   "outputs": [],
   "source": [
    "request = [\"banana\",\"apple\",\"orange\"]"
   ]
  },
  {
   "cell_type": "code",
   "execution_count": 5,
   "metadata": {},
   "outputs": [
    {
     "data": {
      "text/plain": [
       "{'banana': 100, 'apple': 60, 'orange': 60}"
      ]
     },
     "execution_count": 5,
     "metadata": {},
     "output_type": "execute_result"
    }
   ],
   "source": [
    "def stock_request(d:dict,l:list)->dict:\n",
    "    return {key: d.get(key) for key in l}\n",
    "      \n",
    "nomenclature = stock_request(Stock,request)\n",
    "nomenclature\n"
   ]
  },
  {
   "attachments": {},
   "cell_type": "markdown",
   "metadata": {},
   "source": [
    "А теперь напишем сумматор фруктов со склада, как просят в условии задания:"
   ]
  },
  {
   "cell_type": "code",
   "execution_count": 6,
   "metadata": {},
   "outputs": [
    {
     "data": {
      "text/plain": [
       "220"
      ]
     },
     "execution_count": 6,
     "metadata": {},
     "output_type": "execute_result"
    }
   ],
   "source": [
    "def nom_calc(req:dict) -> int:\n",
    "   s = sum(req[i] for i in req)\n",
    "   return s\n",
    "\n",
    "result = nom_calc(stock_request(Stock,request))\n",
    "result"
   ]
  },
  {
   "attachments": {},
   "cell_type": "markdown",
   "metadata": {},
   "source": [
    "Готово!"
   ]
  },
  {
   "attachments": {},
   "cell_type": "markdown",
   "metadata": {},
   "source": [
    "\n",
    "##Задача №2\n",
    "Дан список с затратами на рекламу. \n"
   ]
  },
  {
   "cell_type": "code",
   "execution_count": 7,
   "metadata": {},
   "outputs": [],
   "source": [
    "expenses = [100,125,-90,345,655,-1,0,200]"
   ]
  },
  {
   "attachments": {},
   "cell_type": "markdown",
   "metadata": {},
   "source": [
    "Но в данных есть ошибки, некоторые затраты имеют отрицательную величину. Удалите\n",
    "такие значения из списка и посчитайте суммарные затраты"
   ]
  },
  {
   "attachments": {},
   "cell_type": "markdown",
   "metadata": {},
   "source": [
    "###Решение: напишем выражение, которое сначала изменит нам список, а затем просуммирует оставшиеся значения"
   ]
  },
  {
   "cell_type": "code",
   "execution_count": 10,
   "metadata": {},
   "outputs": [
    {
     "data": {
      "text/plain": [
       "1425"
      ]
     },
     "execution_count": 10,
     "metadata": {},
     "output_type": "execute_result"
    }
   ],
   "source": [
    "newlist = sum([x for x in expenses if x>=0])\n",
    "newlist\n"
   ]
  },
  {
   "attachments": {},
   "cell_type": "markdown",
   "metadata": {},
   "source": [
    "##Задача №3\n",
    "Даны два списка.\n",
    "Даты покупок:"
   ]
  },
  {
   "cell_type": "code",
   "execution_count": 63,
   "metadata": {},
   "outputs": [],
   "source": [
    "dates= ['2021-09-14', '2021-12-15', '2021-09-08', '2021-12-05', '2021-10-09', '2021-09-30', '2021-12-22', '2021-11-29', '2021-12-24', '2021-11-26', '2021-10-27', '2021-12-18', '2021-11-09', '2021-11-23', '2021-09-27',\n",
    "'2021-10-02', '2021-12-27', '2021-09-20', '2021-12-13', '2021-11-01', '2021-11-09', '2021-12-06', '2021-12-08', '2021-10-09', '2021-10-31', '2021-09-30', '2021-11-09', '2021-12-13', '2021-10-26', '2021-12-09']"
   ]
  },
  {
   "attachments": {},
   "cell_type": "markdown",
   "metadata": {},
   "source": [
    "И Суммы сделок по соответствующим датам:"
   ]
  },
  {
   "cell_type": "code",
   "execution_count": 64,
   "metadata": {},
   "outputs": [],
   "source": [
    "moneys = [1270, 8413, 9028, 3703, 5739, 4095, 295, 4944, 5723, 3701, 4471, 651, 7037, 4274, 6275, 4988, 6930, 2971, 6592, 2004, 2822, 519, 3406, 2732, 5015, 2008, 316, 6333, 5700, 2887]"
   ]
  },
  {
   "attachments": {},
   "cell_type": "markdown",
   "metadata": {},
   "source": [
    "###Найти выручку по сделкам в ноябре используя list comprehensions:"
   ]
  },
  {
   "cell_type": "code",
   "execution_count": 65,
   "metadata": {},
   "outputs": [
    {
     "data": {
      "text/plain": [
       "25098"
      ]
     },
     "execution_count": 65,
     "metadata": {},
     "output_type": "execute_result"
    }
   ],
   "source": [
    "novembers_transactions = sum([n for n in moneys if dates[moneys.index(n)].find(\"-11-\")>0])\n",
    "novembers_transactions"
   ]
  },
  {
   "attachments": {},
   "cell_type": "markdown",
   "metadata": {},
   "source": [
    "###Найдите выручку компании в зависимости от месяца\n",
    "Для этого напишите функцию, которая на вход принимает список с датами и список с выручкой, а на выходе словарь, где\n",
    "ключи - это месяцы, а значения - это выручка.\n",
    "Используйте аннотирование типов."
   ]
  },
  {
   "attachments": {},
   "cell_type": "markdown",
   "metadata": {},
   "source": [
    "Очевидно, список дат может содержать одинаковые значения, поэтому просто объединить списки в словарь нельзя, но можно запустить итератор и на каждой итерации или записывать новый ключ или изменять значение существующего:"
   ]
  },
  {
   "cell_type": "code",
   "execution_count": 66,
   "metadata": {},
   "outputs": [
    {
     "data": {
      "text/plain": [
       "{'2021-9': 25647, '2021-12': 45452, '2021-10': 28645, '2021-11': 25098}"
      ]
     },
     "execution_count": 66,
     "metadata": {},
     "output_type": "execute_result"
    }
   ],
   "source": [
    "from datetime import datetime\n",
    "def transactions_by_month(dates, moneys):\n",
    "    month_dict = {}\n",
    "    for date, money in zip(dates, moneys):\n",
    "        date_obj = datetime.strptime(date, '%Y-%m-%d')\n",
    "        year = date_obj.year\n",
    "        month = date_obj.month\n",
    "        key = f'{year}-{month}'  \n",
    "        if key in month_dict:\n",
    "            month_dict[key] += money\n",
    "        else:\n",
    "            month_dict[key] = money\n",
    "    return month_dict\n",
    "answer = transactions_by_month(dates,moneys)\n",
    "answer"
   ]
  }
 ],
 "metadata": {
  "kernelspec": {
   "display_name": "Python 3",
   "language": "python",
   "name": "python3"
  },
  "language_info": {
   "codemirror_mode": {
    "name": "ipython",
    "version": 3
   },
   "file_extension": ".py",
   "mimetype": "text/x-python",
   "name": "python",
   "nbconvert_exporter": "python",
   "pygments_lexer": "ipython3",
   "version": "3.10.11"
  },
  "orig_nbformat": 4
 },
 "nbformat": 4,
 "nbformat_minor": 2
}
